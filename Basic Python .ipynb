{
 "cells": [
  {
   "cell_type": "markdown",
   "id": "dd681e24",
   "metadata": {},
   "source": [
    "# What is Python \n",
    "\n",
    "1) Python is a genaral purpose  high level programming language \n"
   ]
  },
  {
   "cell_type": "markdown",
   "id": "f91b0d22",
   "metadata": {},
   "source": [
    "Variable Name assignment rules in pyathon\n",
    "1) variable name should satsrt with a Latter (Small /Capital)\n",
    "2) It should not contain any special char except _.\n",
    "3) "
   ]
  },
  {
   "cell_type": "markdown",
   "id": "efd0d915",
   "metadata": {},
   "source": [
    "Myvar = 'Abhi'\n",
    "myvar = 'Abhi'\n",
    "my_var = 'Abhi'\n"
   ]
  },
  {
   "cell_type": "markdown",
   "id": "07d8ac4a",
   "metadata": {},
   "source": [
    "# Data Types"
   ]
  },
  {
   "cell_type": "markdown",
   "id": "7b031d52",
   "metadata": {},
   "source": [
    "ext Type:\tstr\n",
    "Numeric Types:\tint, float, complex\n",
    "Sequence Types:\tlist, tuple, range\n",
    "Mapping Type:\tdict\n",
    "Set Types:\tset, frozenset\n",
    "Boolean Type:\tbool\n",
    "Binary Types:\tbytes, bytearray, memoryview"
   ]
  },
  {
   "cell_type": "markdown",
   "id": "d5d2ba48",
   "metadata": {},
   "source": [
    "x = \"Hello World\" str\n",
    "x = 20\n",
    "x = 20.5 float\n",
    "x = 1j complex\n",
    "x = [\"apple\", \"banana\", \"cherry\"] list\n",
    "x = (\"apple\", \"banana\", \"cherry\") tuple\n",
    "x = range(6) range\n",
    "x = {\"name\" : \"John\", \"age\" : 36} dict\n",
    "x = {\"apple\", \"banana\", \"cherry\"} set\n",
    "x = frozenset({\"apple\", \"banana\", \"cherry\"}) frozenset\n",
    "x = True bool\n",
    "x = b\"Hello\""
   ]
  },
  {
   "cell_type": "code",
   "execution_count": null,
   "id": "515662d9",
   "metadata": {},
   "outputs": [],
   "source": [
    "# string ----- Is a major dat type in a python "
   ]
  },
  {
   "cell_type": "code",
   "execution_count": 1,
   "id": "e5c108d8",
   "metadata": {},
   "outputs": [],
   "source": [
    "a = 'Hello world'"
   ]
  },
  {
   "cell_type": "code",
   "execution_count": 3,
   "id": "5513fdb9",
   "metadata": {},
   "outputs": [
    {
     "name": "stdout",
     "output_type": "stream",
     "text": [
      "Hello world\n"
     ]
    }
   ],
   "source": [
    "print(a)"
   ]
  },
  {
   "cell_type": "code",
   "execution_count": 4,
   "id": "ecc88abb",
   "metadata": {},
   "outputs": [
    {
     "name": "stdout",
     "output_type": "stream",
     "text": [
      "<class 'str'>\n"
     ]
    }
   ],
   "source": [
    "print(type(a))"
   ]
  },
  {
   "cell_type": "code",
   "execution_count": 5,
   "id": "000d2298",
   "metadata": {},
   "outputs": [],
   "source": [
    "b = 20"
   ]
  },
  {
   "cell_type": "code",
   "execution_count": 6,
   "id": "f4b886c2",
   "metadata": {},
   "outputs": [
    {
     "name": "stdout",
     "output_type": "stream",
     "text": [
      "20\n",
      "<class 'int'>\n"
     ]
    }
   ],
   "source": [
    "print(b)\n",
    "print(type(b))"
   ]
  },
  {
   "cell_type": "code",
   "execution_count": 8,
   "id": "f29a7ba5",
   "metadata": {},
   "outputs": [
    {
     "name": "stdout",
     "output_type": "stream",
     "text": [
      "20.1\n",
      "<class 'float'>\n"
     ]
    }
   ],
   "source": [
    "c = 20.1\n",
    "print(c)\n",
    "print(type(c))"
   ]
  },
  {
   "cell_type": "code",
   "execution_count": 9,
   "id": "f96a2710",
   "metadata": {},
   "outputs": [
    {
     "name": "stdout",
     "output_type": "stream",
     "text": [
      "(1+2j)\n",
      "<class 'complex'>\n"
     ]
    }
   ],
   "source": [
    "d = 1+2j\n",
    "print(d)\n",
    "print(type(d))"
   ]
  },
  {
   "cell_type": "markdown",
   "id": "f7d971ae",
   "metadata": {},
   "source": [
    "Typecasting"
   ]
  },
  {
   "cell_type": "markdown",
   "id": "b0998149",
   "metadata": {},
   "source": [
    "1) Implicite ====  It is done by a python internally \n",
    "2) Explicite ====  it is done by user /Progammer "
   ]
  },
  {
   "cell_type": "code",
   "execution_count": 10,
   "id": "168eea0b",
   "metadata": {},
   "outputs": [
    {
     "name": "stdout",
     "output_type": "stream",
     "text": [
      "11.2\n"
     ]
    }
   ],
   "source": [
    "# Implicite type casting \n",
    "a = 10\n",
    "b = 2.0\n",
    "c = 1.2\n",
    "\n",
    "print(a+c)"
   ]
  },
  {
   "cell_type": "code",
   "execution_count": 11,
   "id": "603287a7",
   "metadata": {},
   "outputs": [
    {
     "name": "stdout",
     "output_type": "stream",
     "text": [
      "12.0\n"
     ]
    }
   ],
   "source": [
    "print(a+b)"
   ]
  },
  {
   "cell_type": "code",
   "execution_count": null,
   "id": "1169c7e1",
   "metadata": {},
   "outputs": [],
   "source": [
    "# explicite typecasting"
   ]
  },
  {
   "cell_type": "code",
   "execution_count": 13,
   "id": "855b3559",
   "metadata": {},
   "outputs": [
    {
     "name": "stdout",
     "output_type": "stream",
     "text": [
      "20\n",
      "<class 'int'>\n"
     ]
    }
   ],
   "source": [
    "a = 20\n",
    "print(str(a))\n",
    "print(type(a))"
   ]
  },
  {
   "cell_type": "code",
   "execution_count": 15,
   "id": "b84adb05",
   "metadata": {},
   "outputs": [
    {
     "name": "stdout",
     "output_type": "stream",
     "text": [
      "20.0\n",
      "<class 'int'>\n"
     ]
    }
   ],
   "source": [
    "b = 20\n",
    "print(float(b))\n",
    "print(type(b))"
   ]
  },
  {
   "cell_type": "markdown",
   "id": "b9f69b5d",
   "metadata": {},
   "source": [
    "# Python Input"
   ]
  },
  {
   "cell_type": "code",
   "execution_count": 16,
   "id": "aaeb2083",
   "metadata": {},
   "outputs": [
    {
     "name": "stdout",
     "output_type": "stream",
     "text": [
      "Enter  a number 12\n"
     ]
    }
   ],
   "source": [
    "num = input('Enter  a number ')"
   ]
  },
  {
   "cell_type": "code",
   "execution_count": null,
   "id": "834433a5",
   "metadata": {},
   "outputs": [],
   "source": []
  }
 ],
 "metadata": {
  "kernelspec": {
   "display_name": "Python 3",
   "language": "python",
   "name": "python3"
  },
  "language_info": {
   "codemirror_mode": {
    "name": "ipython",
    "version": 3
   },
   "file_extension": ".py",
   "mimetype": "text/x-python",
   "name": "python",
   "nbconvert_exporter": "python",
   "pygments_lexer": "ipython3",
   "version": "3.6.13"
  }
 },
 "nbformat": 4,
 "nbformat_minor": 5
}
